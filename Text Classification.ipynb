{
  "nbformat": 4,
  "nbformat_minor": 0,
  "metadata": {
    "colab": {
      "name": "Abrakadata - Module 3 - Practice Case.ipynb",
      "provenance": [],
      "collapsed_sections": [
        "v44JEURqOEvF",
        "71wusHmtMhDN",
        "lU-KcUAzMGr4",
        "_1xWMDdnLpQQ",
        "pGFzHlNBOdO-"
      ]
    },
    "kernelspec": {
      "name": "python3",
      "display_name": "Python 3"
    },
    "language_info": {
      "name": "python"
    }
  },
  "cells": [
    {
      "cell_type": "code",
      "metadata": {
        "colab": {
          "base_uri": "https://localhost:8080/"
        },
        "id": "mmN80Awn5VNH",
        "outputId": "6e1cc306-c70a-4a80-9949-1ea63a1d405e"
      },
      "source": [
        "!pip install nltk\n",
        "import nltk"
      ],
      "execution_count": null,
      "outputs": [
        {
          "output_type": "stream",
          "text": [
            "Requirement already satisfied: nltk in /usr/local/lib/python3.7/dist-packages (3.2.5)\n",
            "Requirement already satisfied: six in /usr/local/lib/python3.7/dist-packages (from nltk) (1.15.0)\n"
          ],
          "name": "stdout"
        }
      ]
    },
    {
      "cell_type": "code",
      "metadata": {
        "colab": {
          "base_uri": "https://localhost:8080/"
        },
        "id": "1ECDylmF5o9M",
        "outputId": "68560225-9cf0-4268-fb39-32f6c856f8f1"
      },
      "source": [
        "nltk.download('stopwords')"
      ],
      "execution_count": null,
      "outputs": [
        {
          "output_type": "stream",
          "text": [
            "[nltk_data] Downloading package stopwords to /root/nltk_data...\n",
            "[nltk_data]   Unzipping corpora/stopwords.zip.\n"
          ],
          "name": "stdout"
        },
        {
          "output_type": "execute_result",
          "data": {
            "text/plain": [
              "True"
            ]
          },
          "metadata": {
            "tags": []
          },
          "execution_count": 2
        }
      ]
    },
    {
      "cell_type": "code",
      "metadata": {
        "id": "-d9da51F1kUX"
      },
      "source": [
        "import pandas as pd\n",
        "\n",
        "import re\n",
        "import string\n",
        "\n",
        "from string import punctuation\n",
        "from nltk.corpus import stopwords\n",
        "\n",
        "stop_words = stopwords.words('indonesian')\n",
        "\n",
        "from sklearn.feature_extraction.text import CountVectorizer\n",
        "from sklearn.feature_extraction.text import TfidfVectorizer\n",
        "from sklearn.model_selection import train_test_split\n",
        "from sklearn import svm, naive_bayes\n",
        "from sklearn.linear_model import LogisticRegression\n",
        "\n",
        "\n",
        "from sklearn.metrics import confusion_matrix,accuracy_score, classification_report"
      ],
      "execution_count": null,
      "outputs": []
    },
    {
      "cell_type": "code",
      "metadata": {
        "colab": {
          "base_uri": "https://localhost:8080/"
        },
        "id": "nUzIzD0oHcQX",
        "outputId": "edbeea14-96bd-4582-8210-c982ff444f53"
      },
      "source": [
        "!pip install sastrawi"
      ],
      "execution_count": null,
      "outputs": [
        {
          "output_type": "stream",
          "text": [
            "Collecting sastrawi\n",
            "  Downloading Sastrawi-1.0.1-py2.py3-none-any.whl (209 kB)\n",
            "\u001b[?25l\r\u001b[K     |█▋                              | 10 kB 21.2 MB/s eta 0:00:01\r\u001b[K     |███▏                            | 20 kB 10.9 MB/s eta 0:00:01\r\u001b[K     |████▊                           | 30 kB 8.9 MB/s eta 0:00:01\r\u001b[K     |██████▎                         | 40 kB 8.1 MB/s eta 0:00:01\r\u001b[K     |███████▉                        | 51 kB 4.2 MB/s eta 0:00:01\r\u001b[K     |█████████▍                      | 61 kB 4.4 MB/s eta 0:00:01\r\u001b[K     |███████████                     | 71 kB 4.8 MB/s eta 0:00:01\r\u001b[K     |████████████▌                   | 81 kB 5.3 MB/s eta 0:00:01\r\u001b[K     |██████████████                  | 92 kB 5.5 MB/s eta 0:00:01\r\u001b[K     |███████████████▋                | 102 kB 4.3 MB/s eta 0:00:01\r\u001b[K     |█████████████████▏              | 112 kB 4.3 MB/s eta 0:00:01\r\u001b[K     |██████████████████▊             | 122 kB 4.3 MB/s eta 0:00:01\r\u001b[K     |████████████████████▎           | 133 kB 4.3 MB/s eta 0:00:01\r\u001b[K     |█████████████████████▉          | 143 kB 4.3 MB/s eta 0:00:01\r\u001b[K     |███████████████████████▍        | 153 kB 4.3 MB/s eta 0:00:01\r\u001b[K     |█████████████████████████       | 163 kB 4.3 MB/s eta 0:00:01\r\u001b[K     |██████████████████████████▋     | 174 kB 4.3 MB/s eta 0:00:01\r\u001b[K     |████████████████████████████▏   | 184 kB 4.3 MB/s eta 0:00:01\r\u001b[K     |█████████████████████████████▊  | 194 kB 4.3 MB/s eta 0:00:01\r\u001b[K     |███████████████████████████████▎| 204 kB 4.3 MB/s eta 0:00:01\r\u001b[K     |████████████████████████████████| 209 kB 4.3 MB/s \n",
            "\u001b[?25hInstalling collected packages: sastrawi\n",
            "Successfully installed sastrawi-1.0.1\n"
          ],
          "name": "stdout"
        }
      ]
    },
    {
      "cell_type": "code",
      "metadata": {
        "id": "RYt-hRooQRZl"
      },
      "source": [
        "import matplotlib.pyplot as plt\n",
        "import numpy as np\n",
        "import itertools\n",
        "\n",
        "def plot(cm, classes,\n",
        "                          normalize=False,\n",
        "                          title='Confusion matrix',\n",
        "                          cmap=plt.cm.Blues):\n",
        "    \"\"\"\n",
        "    This function prints and plots the confusion matrix.\n",
        "    Normalization can be applied by setting `normalize=True`.\n",
        "    \"\"\"\n",
        "    if normalize:\n",
        "        cm = cm.astype('float') / cm.sum(axis=1)[:, np.newaxis]\n",
        "        print(\"Normalized confusion matrix\")\n",
        "        cm = cm.astype('float') / cm.sum(axis=1)[:, np.newaxis]\n",
        "        print(\"Normalized confusion matrix\")\n",
        "    else:\n",
        "        print('Confusion matrix, without normalization')\n",
        "        print(cm)\n",
        "\n",
        "    plt.imshow(cm, interpolation='nearest', cmap=cmap)\n",
        "    plt.title(title)\n",
        "    plt.colorbar()\n",
        "    tick_marks = np.arange(len(classes))\n",
        "    plt.xticks(tick_marks, classes, rotation=45)\n",
        "    plt.yticks(tick_marks, classes)\n",
        "    fmt = '.2f' if normalize else 'd'\n",
        "    thresh = cm.max() / 2.\n",
        "    for i, j in itertools.product(range(cm.shape[0]), range(cm.shape[1])):\n",
        "        plt.text(j, i, format(cm[i, j], fmt),\n",
        "                 horizontalalignment=\"center\",\n",
        "                 color=\"white\" if cm[i, j] > thresh else \"black\")\n",
        "\n",
        "    plt.tight_layout()\n",
        "    plt.ylabel('True label')\n",
        "    plt.xlabel('Predicted label')\n",
        "    plt.show()"
      ],
      "execution_count": null,
      "outputs": []
    },
    {
      "cell_type": "code",
      "metadata": {
        "id": "NxLCtoF7HVZL"
      },
      "source": [
        "#feature extraction\n",
        "from sklearn.feature_extraction.text import CountVectorizer\n",
        "from sklearn.feature_extraction.text import TfidfVectorizer\n",
        "from Sastrawi.Stemmer.StemmerFactory import StemmerFactory\n",
        "\n",
        "factory = StemmerFactory()\n",
        "stemmer = factory.create_stemmer()"
      ],
      "execution_count": null,
      "outputs": []
    },
    {
      "cell_type": "markdown",
      "metadata": {
        "id": "KdkTTSQEFeR8"
      },
      "source": [
        "Read the data"
      ]
    },
    {
      "cell_type": "code",
      "metadata": {
        "id": "3ZBz32Rn7Sut"
      },
      "source": [
        "bisnis = pd.read_csv('/content/bisnis.csv')\n",
        "lifestyle = pd.read_csv('/content/lifestyle.csv')\n",
        "sport = pd.read_csv('/content/sport.csv')"
      ],
      "execution_count": null,
      "outputs": []
    },
    {
      "cell_type": "code",
      "metadata": {
        "id": "v0Gk7HN805R5"
      },
      "source": [
        "bisnis['label'] = pd.Series('bisnis', index=bisnis.index)\n",
        "lifestyle['label'] = pd.Series('lifestyle', index=lifestyle.index)\n",
        "sport['label'] = pd.Series('sport', index=sport.index)"
      ],
      "execution_count": null,
      "outputs": []
    },
    {
      "cell_type": "code",
      "metadata": {
        "id": "BaPAK9UOBCu5"
      },
      "source": [
        "dataset = pd.concat([bisnis, lifestyle, sport], ignore_index=True)"
      ],
      "execution_count": null,
      "outputs": []
    },
    {
      "cell_type": "code",
      "metadata": {
        "colab": {
          "base_uri": "https://localhost:8080/",
          "height": 310
        },
        "id": "ehKRyC3kBmGh",
        "outputId": "d28a4ea9-d1ab-47eb-b2e7-b0deb9135abd"
      },
      "source": [
        "dataset.head()"
      ],
      "execution_count": null,
      "outputs": [
        {
          "output_type": "execute_result",
          "data": {
            "text/html": [
              "<div>\n",
              "<style scoped>\n",
              "    .dataframe tbody tr th:only-of-type {\n",
              "        vertical-align: middle;\n",
              "    }\n",
              "\n",
              "    .dataframe tbody tr th {\n",
              "        vertical-align: top;\n",
              "    }\n",
              "\n",
              "    .dataframe thead th {\n",
              "        text-align: right;\n",
              "    }\n",
              "</style>\n",
              "<table border=\"1\" class=\"dataframe\">\n",
              "  <thead>\n",
              "    <tr style=\"text-align: right;\">\n",
              "      <th></th>\n",
              "      <th>Unnamed: 0</th>\n",
              "      <th>id</th>\n",
              "      <th>url</th>\n",
              "      <th>title</th>\n",
              "      <th>content</th>\n",
              "      <th>label</th>\n",
              "    </tr>\n",
              "  </thead>\n",
              "  <tbody>\n",
              "    <tr>\n",
              "      <th>0</th>\n",
              "      <td>0</td>\n",
              "      <td>0</td>\n",
              "      <td>https://www.tribunnews.com/bisnis/2020/10/06/s...</td>\n",
              "      <td>\\n\\t\\t\\t\\t\\t\\tSektor Pertanian Tumbuh Signifik...</td>\n",
              "      <td>b'TRIBUNNEWS.COM, JAKARTA -- Pemerintah optimi...</td>\n",
              "      <td>bisnis</td>\n",
              "    </tr>\n",
              "    <tr>\n",
              "      <th>1</th>\n",
              "      <td>1</td>\n",
              "      <td>1</td>\n",
              "      <td>https://www.tribunnews.com/bisnis/2020/10/06/t...</td>\n",
              "      <td>\\n\\t\\t\\t\\t\\t\\tTekan Jokowi Soal UU Cipta Kerja...</td>\n",
              "      <td>b'Laporan Wartawan Tribunnews.com, Yanuar Riez...</td>\n",
              "      <td>bisnis</td>\n",
              "    </tr>\n",
              "    <tr>\n",
              "      <th>2</th>\n",
              "      <td>2</td>\n",
              "      <td>2</td>\n",
              "      <td>https://www.tribunnews.com/bisnis/2020/10/06/c...</td>\n",
              "      <td>\\n\\t\\t\\t\\t\\t\\tCara Dapatkan Listik Gratis Bula...</td>\n",
              "      <td>b'TRIBUNNEWS.COM - Masyarakat Indonesia dapat ...</td>\n",
              "      <td>bisnis</td>\n",
              "    </tr>\n",
              "    <tr>\n",
              "      <th>3</th>\n",
              "      <td>3</td>\n",
              "      <td>3</td>\n",
              "      <td>https://www.tribunnews.com/bisnis/2020/10/06/p...</td>\n",
              "      <td>\\n\\t\\t\\t\\t\\t\\tPerbandingan UU Cipta Kerja yang...</td>\n",
              "      <td>b'TRIBUNNEWS.COM, JAKARTA -\\xc2\\xa0 Pemerintah...</td>\n",
              "      <td>bisnis</td>\n",
              "    </tr>\n",
              "    <tr>\n",
              "      <th>4</th>\n",
              "      <td>4</td>\n",
              "      <td>4</td>\n",
              "      <td>https://www.tribunnews.com/bisnis/2020/10/06/p...</td>\n",
              "      <td>\\n\\t\\t\\t\\t\\t\\tProtes Risiko Lingkungan di UU C...</td>\n",
              "      <td>b'Laporan Wartawan Tribunnews.com, Yanuar Riez...</td>\n",
              "      <td>bisnis</td>\n",
              "    </tr>\n",
              "  </tbody>\n",
              "</table>\n",
              "</div>"
            ],
            "text/plain": [
              "   Unnamed: 0  id  ...                                            content   label\n",
              "0           0   0  ...  b'TRIBUNNEWS.COM, JAKARTA -- Pemerintah optimi...  bisnis\n",
              "1           1   1  ...  b'Laporan Wartawan Tribunnews.com, Yanuar Riez...  bisnis\n",
              "2           2   2  ...  b'TRIBUNNEWS.COM - Masyarakat Indonesia dapat ...  bisnis\n",
              "3           3   3  ...  b'TRIBUNNEWS.COM, JAKARTA -\\xc2\\xa0 Pemerintah...  bisnis\n",
              "4           4   4  ...  b'Laporan Wartawan Tribunnews.com, Yanuar Riez...  bisnis\n",
              "\n",
              "[5 rows x 6 columns]"
            ]
          },
          "metadata": {
            "tags": []
          },
          "execution_count": 10
        }
      ]
    },
    {
      "cell_type": "code",
      "metadata": {
        "id": "TYOIW1SIANoJ"
      },
      "source": [
        "#preprocessing function\n",
        "def preprocessing(sentence):\n",
        "    \n",
        "    #lowercasing\n",
        "    sentence = sentence.lower()\n",
        "    sentence = re.sub(r\"b'\\S+\", \"\", sentence)\n",
        "    sentence = re.sub(r\"https\\S+\", \"\", sentence)\n",
        "    sentence = re.sub(r\"x\\S+\", \"\", sentence)\n",
        "    \n",
        "    #remove white spaces\n",
        "    sentence = sentence.strip()\n",
        "    \n",
        "    #tokenization\n",
        "    words = sentence.split()\n",
        "    \n",
        "    #remove punctuation/ special character\n",
        "    remove_table = str.maketrans(\"\", \"\", punctuation)\n",
        "    words = [x.translate(remove_table) for x in words]\n",
        "\n",
        "    #remove nonalphanumeric <=3 chars\n",
        "    words = [x for x in words if x.isalnum() and len(x) > 3]\n",
        "    \n",
        "    # stemming\n",
        "    words = [stemmer.stem(w) for w in words]\n",
        "    \n",
        "    #remove stopwords\n",
        "    words = [x for x in words if x not in stop_words]\n",
        "\n",
        "    #rejoining the words\n",
        "    sentence = \" \".join(words)\n",
        "    \n",
        "    return sentence"
      ],
      "execution_count": null,
      "outputs": []
    },
    {
      "cell_type": "code",
      "metadata": {
        "colab": {
          "base_uri": "https://localhost:8080/",
          "height": 310
        },
        "id": "zzhZaTCiGvS5",
        "outputId": "5847529e-47bb-4764-b799-b4dddd7051f1"
      },
      "source": [
        "dataset.head()"
      ],
      "execution_count": null,
      "outputs": [
        {
          "output_type": "execute_result",
          "data": {
            "text/html": [
              "<div>\n",
              "<style scoped>\n",
              "    .dataframe tbody tr th:only-of-type {\n",
              "        vertical-align: middle;\n",
              "    }\n",
              "\n",
              "    .dataframe tbody tr th {\n",
              "        vertical-align: top;\n",
              "    }\n",
              "\n",
              "    .dataframe thead th {\n",
              "        text-align: right;\n",
              "    }\n",
              "</style>\n",
              "<table border=\"1\" class=\"dataframe\">\n",
              "  <thead>\n",
              "    <tr style=\"text-align: right;\">\n",
              "      <th></th>\n",
              "      <th>Unnamed: 0</th>\n",
              "      <th>id</th>\n",
              "      <th>url</th>\n",
              "      <th>title</th>\n",
              "      <th>content</th>\n",
              "      <th>label</th>\n",
              "    </tr>\n",
              "  </thead>\n",
              "  <tbody>\n",
              "    <tr>\n",
              "      <th>0</th>\n",
              "      <td>0</td>\n",
              "      <td>0</td>\n",
              "      <td>https://www.tribunnews.com/bisnis/2020/10/06/s...</td>\n",
              "      <td>\\n\\t\\t\\t\\t\\t\\tSektor Pertanian Tumbuh Signifik...</td>\n",
              "      <td>b'TRIBUNNEWS.COM, JAKARTA -- Pemerintah optimi...</td>\n",
              "      <td>bisnis</td>\n",
              "    </tr>\n",
              "    <tr>\n",
              "      <th>1</th>\n",
              "      <td>1</td>\n",
              "      <td>1</td>\n",
              "      <td>https://www.tribunnews.com/bisnis/2020/10/06/t...</td>\n",
              "      <td>\\n\\t\\t\\t\\t\\t\\tTekan Jokowi Soal UU Cipta Kerja...</td>\n",
              "      <td>b'Laporan Wartawan Tribunnews.com, Yanuar Riez...</td>\n",
              "      <td>bisnis</td>\n",
              "    </tr>\n",
              "    <tr>\n",
              "      <th>2</th>\n",
              "      <td>2</td>\n",
              "      <td>2</td>\n",
              "      <td>https://www.tribunnews.com/bisnis/2020/10/06/c...</td>\n",
              "      <td>\\n\\t\\t\\t\\t\\t\\tCara Dapatkan Listik Gratis Bula...</td>\n",
              "      <td>b'TRIBUNNEWS.COM - Masyarakat Indonesia dapat ...</td>\n",
              "      <td>bisnis</td>\n",
              "    </tr>\n",
              "    <tr>\n",
              "      <th>3</th>\n",
              "      <td>3</td>\n",
              "      <td>3</td>\n",
              "      <td>https://www.tribunnews.com/bisnis/2020/10/06/p...</td>\n",
              "      <td>\\n\\t\\t\\t\\t\\t\\tPerbandingan UU Cipta Kerja yang...</td>\n",
              "      <td>b'TRIBUNNEWS.COM, JAKARTA -\\xc2\\xa0 Pemerintah...</td>\n",
              "      <td>bisnis</td>\n",
              "    </tr>\n",
              "    <tr>\n",
              "      <th>4</th>\n",
              "      <td>4</td>\n",
              "      <td>4</td>\n",
              "      <td>https://www.tribunnews.com/bisnis/2020/10/06/p...</td>\n",
              "      <td>\\n\\t\\t\\t\\t\\t\\tProtes Risiko Lingkungan di UU C...</td>\n",
              "      <td>b'Laporan Wartawan Tribunnews.com, Yanuar Riez...</td>\n",
              "      <td>bisnis</td>\n",
              "    </tr>\n",
              "  </tbody>\n",
              "</table>\n",
              "</div>"
            ],
            "text/plain": [
              "   Unnamed: 0  id  ...                                            content   label\n",
              "0           0   0  ...  b'TRIBUNNEWS.COM, JAKARTA -- Pemerintah optimi...  bisnis\n",
              "1           1   1  ...  b'Laporan Wartawan Tribunnews.com, Yanuar Riez...  bisnis\n",
              "2           2   2  ...  b'TRIBUNNEWS.COM - Masyarakat Indonesia dapat ...  bisnis\n",
              "3           3   3  ...  b'TRIBUNNEWS.COM, JAKARTA -\\xc2\\xa0 Pemerintah...  bisnis\n",
              "4           4   4  ...  b'Laporan Wartawan Tribunnews.com, Yanuar Riez...  bisnis\n",
              "\n",
              "[5 rows x 6 columns]"
            ]
          },
          "metadata": {
            "tags": []
          },
          "execution_count": 12
        }
      ]
    },
    {
      "cell_type": "code",
      "metadata": {
        "id": "CtgSVxlbGnQH"
      },
      "source": [
        "dataset.drop(['Unnamed: 0','id','url','title'], axis=1, inplace=True)"
      ],
      "execution_count": null,
      "outputs": []
    },
    {
      "cell_type": "code",
      "metadata": {
        "colab": {
          "base_uri": "https://localhost:8080/",
          "height": 423
        },
        "id": "YJrzRG3A3i_s",
        "outputId": "f7c8c402-57f9-43d6-ccca-be2b8f0cd6d6"
      },
      "source": [
        "dataset"
      ],
      "execution_count": null,
      "outputs": [
        {
          "output_type": "execute_result",
          "data": {
            "text/html": [
              "<div>\n",
              "<style scoped>\n",
              "    .dataframe tbody tr th:only-of-type {\n",
              "        vertical-align: middle;\n",
              "    }\n",
              "\n",
              "    .dataframe tbody tr th {\n",
              "        vertical-align: top;\n",
              "    }\n",
              "\n",
              "    .dataframe thead th {\n",
              "        text-align: right;\n",
              "    }\n",
              "</style>\n",
              "<table border=\"1\" class=\"dataframe\">\n",
              "  <thead>\n",
              "    <tr style=\"text-align: right;\">\n",
              "      <th></th>\n",
              "      <th>content</th>\n",
              "      <th>label</th>\n",
              "    </tr>\n",
              "  </thead>\n",
              "  <tbody>\n",
              "    <tr>\n",
              "      <th>0</th>\n",
              "      <td>b'TRIBUNNEWS.COM, JAKARTA -- Pemerintah optimi...</td>\n",
              "      <td>bisnis</td>\n",
              "    </tr>\n",
              "    <tr>\n",
              "      <th>1</th>\n",
              "      <td>b'Laporan Wartawan Tribunnews.com, Yanuar Riez...</td>\n",
              "      <td>bisnis</td>\n",
              "    </tr>\n",
              "    <tr>\n",
              "      <th>2</th>\n",
              "      <td>b'TRIBUNNEWS.COM - Masyarakat Indonesia dapat ...</td>\n",
              "      <td>bisnis</td>\n",
              "    </tr>\n",
              "    <tr>\n",
              "      <th>3</th>\n",
              "      <td>b'TRIBUNNEWS.COM, JAKARTA -\\xc2\\xa0 Pemerintah...</td>\n",
              "      <td>bisnis</td>\n",
              "    </tr>\n",
              "    <tr>\n",
              "      <th>4</th>\n",
              "      <td>b'Laporan Wartawan Tribunnews.com, Yanuar Riez...</td>\n",
              "      <td>bisnis</td>\n",
              "    </tr>\n",
              "    <tr>\n",
              "      <th>...</th>\n",
              "      <td>...</td>\n",
              "      <td>...</td>\n",
              "    </tr>\n",
              "    <tr>\n",
              "      <th>115</th>\n",
              "      <td>b'TRIBUNNEWS.COM - Ajang Balapan MotoGP 2020, ...</td>\n",
              "      <td>sport</td>\n",
              "    </tr>\n",
              "    <tr>\n",
              "      <th>116</th>\n",
              "      <td>b'TRIBUNNEWS.COM - Ajang Balapan MotoGP 2020, ...</td>\n",
              "      <td>sport</td>\n",
              "    </tr>\n",
              "    <tr>\n",
              "      <th>117</th>\n",
              "      <td>b'TRIBUNNEWS.COM - Ajang Balapan MotoGP 2020, ...</td>\n",
              "      <td>sport</td>\n",
              "    </tr>\n",
              "    <tr>\n",
              "      <th>118</th>\n",
              "      <td>b'TRIBUNNEWS.COM - Ajang Balapan MotoGP 2020, ...</td>\n",
              "      <td>sport</td>\n",
              "    </tr>\n",
              "    <tr>\n",
              "      <th>119</th>\n",
              "      <td>b'TRIBUNNEWS.COM - Ajang Balapan MotoGP 2020, ...</td>\n",
              "      <td>sport</td>\n",
              "    </tr>\n",
              "  </tbody>\n",
              "</table>\n",
              "<p>120 rows × 2 columns</p>\n",
              "</div>"
            ],
            "text/plain": [
              "                                               content   label\n",
              "0    b'TRIBUNNEWS.COM, JAKARTA -- Pemerintah optimi...  bisnis\n",
              "1    b'Laporan Wartawan Tribunnews.com, Yanuar Riez...  bisnis\n",
              "2    b'TRIBUNNEWS.COM - Masyarakat Indonesia dapat ...  bisnis\n",
              "3    b'TRIBUNNEWS.COM, JAKARTA -\\xc2\\xa0 Pemerintah...  bisnis\n",
              "4    b'Laporan Wartawan Tribunnews.com, Yanuar Riez...  bisnis\n",
              "..                                                 ...     ...\n",
              "115  b'TRIBUNNEWS.COM - Ajang Balapan MotoGP 2020, ...   sport\n",
              "116  b'TRIBUNNEWS.COM - Ajang Balapan MotoGP 2020, ...   sport\n",
              "117  b'TRIBUNNEWS.COM - Ajang Balapan MotoGP 2020, ...   sport\n",
              "118  b'TRIBUNNEWS.COM - Ajang Balapan MotoGP 2020, ...   sport\n",
              "119  b'TRIBUNNEWS.COM - Ajang Balapan MotoGP 2020, ...   sport\n",
              "\n",
              "[120 rows x 2 columns]"
            ]
          },
          "metadata": {
            "tags": []
          },
          "execution_count": 14
        }
      ]
    },
    {
      "cell_type": "code",
      "metadata": {
        "id": "FP7tTkl7G71E"
      },
      "source": [
        "dataset['clean'] =  dataset['content'].apply(preprocessing)"
      ],
      "execution_count": null,
      "outputs": []
    },
    {
      "cell_type": "code",
      "metadata": {
        "id": "hZnFhcMRHAvM"
      },
      "source": [
        "dataset.drop(['content'], axis=1, inplace=True)"
      ],
      "execution_count": null,
      "outputs": []
    },
    {
      "cell_type": "code",
      "metadata": {
        "id": "CVR8EJ-sKlUs"
      },
      "source": [
        "dataset = dataset[['clean', 'label']]"
      ],
      "execution_count": null,
      "outputs": []
    },
    {
      "cell_type": "code",
      "metadata": {
        "colab": {
          "base_uri": "https://localhost:8080/",
          "height": 423
        },
        "id": "kl121IhbLKVu",
        "outputId": "7af51a72-d5f0-48bf-beab-465146677d68"
      },
      "source": [
        "dataset"
      ],
      "execution_count": null,
      "outputs": [
        {
          "output_type": "execute_result",
          "data": {
            "text/html": [
              "<div>\n",
              "<style scoped>\n",
              "    .dataframe tbody tr th:only-of-type {\n",
              "        vertical-align: middle;\n",
              "    }\n",
              "\n",
              "    .dataframe tbody tr th {\n",
              "        vertical-align: top;\n",
              "    }\n",
              "\n",
              "    .dataframe thead th {\n",
              "        text-align: right;\n",
              "    }\n",
              "</style>\n",
              "<table border=\"1\" class=\"dataframe\">\n",
              "  <thead>\n",
              "    <tr style=\"text-align: right;\">\n",
              "      <th></th>\n",
              "      <th>clean</th>\n",
              "      <th>label</th>\n",
              "    </tr>\n",
              "  </thead>\n",
              "  <tbody>\n",
              "    <tr>\n",
              "      <th>0</th>\n",
              "      <td>jakarta perintah optimistis sektor tani sangga...</td>\n",
              "      <td>bisnis</td>\n",
              "    </tr>\n",
              "    <tr>\n",
              "      <th>1</th>\n",
              "      <td>wartawan tribunnewscom yanuar riezqi yovanda t...</td>\n",
              "      <td>bisnis</td>\n",
              "    </tr>\n",
              "    <tr>\n",
              "      <th>2</th>\n",
              "      <td>masyarakat indonesia nikmat token listrik grat...</td>\n",
              "      <td>bisnis</td>\n",
              "    </tr>\n",
              "    <tr>\n",
              "      <th>3</th>\n",
              "      <td>jakarta perintah resmi kesah omnibus rancang u...</td>\n",
              "      <td>bisnis</td>\n",
              "    </tr>\n",
              "    <tr>\n",
              "      <th>4</th>\n",
              "      <td>wartawan tribunnewscom yanuar riezqi yovanda t...</td>\n",
              "      <td>bisnis</td>\n",
              "    </tr>\n",
              "    <tr>\n",
              "      <th>...</th>\n",
              "      <td>...</td>\n",
              "      <td>...</td>\n",
              "    </tr>\n",
              "    <tr>\n",
              "      <th>115</th>\n",
              "      <td>ajang balap motogp 2020 gelar pekan minggu 111...</td>\n",
              "      <td>sport</td>\n",
              "    </tr>\n",
              "    <tr>\n",
              "      <th>116</th>\n",
              "      <td>ajang balap motogp 2020 gelar pekan minggu 111...</td>\n",
              "      <td>sport</td>\n",
              "    </tr>\n",
              "    <tr>\n",
              "      <th>117</th>\n",
              "      <td>ajang balap motogp 2020 gelar pekan minggu 111...</td>\n",
              "      <td>sport</td>\n",
              "    </tr>\n",
              "    <tr>\n",
              "      <th>118</th>\n",
              "      <td>ajang balap motogp 2020 gelar pekan minggu 111...</td>\n",
              "      <td>sport</td>\n",
              "    </tr>\n",
              "    <tr>\n",
              "      <th>119</th>\n",
              "      <td>ajang balap motogp 2020 gelar pekan minggu 111...</td>\n",
              "      <td>sport</td>\n",
              "    </tr>\n",
              "  </tbody>\n",
              "</table>\n",
              "<p>120 rows × 2 columns</p>\n",
              "</div>"
            ],
            "text/plain": [
              "                                                 clean   label\n",
              "0    jakarta perintah optimistis sektor tani sangga...  bisnis\n",
              "1    wartawan tribunnewscom yanuar riezqi yovanda t...  bisnis\n",
              "2    masyarakat indonesia nikmat token listrik grat...  bisnis\n",
              "3    jakarta perintah resmi kesah omnibus rancang u...  bisnis\n",
              "4    wartawan tribunnewscom yanuar riezqi yovanda t...  bisnis\n",
              "..                                                 ...     ...\n",
              "115  ajang balap motogp 2020 gelar pekan minggu 111...   sport\n",
              "116  ajang balap motogp 2020 gelar pekan minggu 111...   sport\n",
              "117  ajang balap motogp 2020 gelar pekan minggu 111...   sport\n",
              "118  ajang balap motogp 2020 gelar pekan minggu 111...   sport\n",
              "119  ajang balap motogp 2020 gelar pekan minggu 111...   sport\n",
              "\n",
              "[120 rows x 2 columns]"
            ]
          },
          "metadata": {
            "tags": []
          },
          "execution_count": 18
        }
      ]
    },
    {
      "cell_type": "code",
      "metadata": {
        "id": "a01WyfuBJmb0"
      },
      "source": [
        "from sklearn.tree import DecisionTreeClassifier"
      ],
      "execution_count": null,
      "outputs": []
    },
    {
      "cell_type": "code",
      "metadata": {
        "id": "ZUUPYjWcKC4p"
      },
      "source": [
        "X_train, X_test, y_train, y_test = train_test_split(dataset['clean'], dataset['label'], test_size=0.25)"
      ],
      "execution_count": null,
      "outputs": []
    },
    {
      "cell_type": "code",
      "metadata": {
        "id": "BHAFhajULaeU"
      },
      "source": [
        "y_train = y_train.map({'bisnis':0, 'lifestyle':1, 'sport':2})\n",
        "y_test = y_test.map({'bisnis':0, 'lifestyle':1, 'sport':2})"
      ],
      "execution_count": null,
      "outputs": []
    },
    {
      "cell_type": "code",
      "metadata": {
        "id": "Ju03s2czLhDq"
      },
      "source": [
        "stop_words = stop_words.extend(['tribunnewscom'])\n",
        "cv = CountVectorizer()\n",
        "X_train_vect = cv.fit_transform(X_train)\n",
        "X_test_vect = cv.transform(X_test)"
      ],
      "execution_count": null,
      "outputs": []
    },
    {
      "cell_type": "markdown",
      "metadata": {
        "id": "v44JEURqOEvF"
      },
      "source": [
        "# LR"
      ]
    },
    {
      "cell_type": "code",
      "metadata": {
        "colab": {
          "base_uri": "https://localhost:8080/"
        },
        "id": "x8ykJKYuOGUz",
        "outputId": "92c568ab-aa6a-43f0-96ff-91061cf1f359"
      },
      "source": [
        "#logistic regression\n",
        "LR = LogisticRegression()\n",
        "LR.fit(X_train_vect, y_train)\n",
        "\n",
        "predicted_lr = LR.predict(X_test_vect)\n",
        "accuracy_score(y_test, predicted_lr)\n",
        "print(classification_report(y_test, predicted_lr))\n",
        "print(confusion_matrix(y_test, predicted_lr))"
      ],
      "execution_count": null,
      "outputs": [
        {
          "output_type": "stream",
          "text": [
            "              precision    recall  f1-score   support\n",
            "\n",
            "           0       1.00      0.88      0.93         8\n",
            "           1       0.69      1.00      0.82         9\n",
            "           2       1.00      0.77      0.87        13\n",
            "\n",
            "    accuracy                           0.87        30\n",
            "   macro avg       0.90      0.88      0.87        30\n",
            "weighted avg       0.91      0.87      0.87        30\n",
            "\n",
            "[[ 7  1  0]\n",
            " [ 0  9  0]\n",
            " [ 0  3 10]]\n"
          ],
          "name": "stdout"
        }
      ]
    },
    {
      "cell_type": "code",
      "metadata": {
        "colab": {
          "base_uri": "https://localhost:8080/",
          "height": 381
        },
        "id": "dIM7GaHEON9x",
        "outputId": "db671841-e703-46a0-a8e4-a8aec38b7c1b"
      },
      "source": [
        "lr_cm = confusion_matrix(y_test, predicted_lr)\n",
        "plot(lr_cm, classes=[\"0 (Bisnis)\",\"1 (Lifestyle)\",\"2 (Sport)\"], title='Confusion matrix LR')"
      ],
      "execution_count": null,
      "outputs": [
        {
          "output_type": "stream",
          "text": [
            "Confusion matrix, without normalization\n",
            "[[ 7  1  0]\n",
            " [ 0  9  0]\n",
            " [ 0  3 10]]\n"
          ],
          "name": "stdout"
        },
        {
          "output_type": "display_data",
          "data": {
            "image/png": "[encoded data removed]",
            "text/plain": [
              "<Figure size 432x288 with 2 Axes>"
            ]
          },
          "metadata": {
            "tags": [],
            "needs_background": "light"
          }
        }
      ]
    },
    {
      "cell_type": "markdown",
      "metadata": {
        "id": "71wusHmtMhDN"
      },
      "source": [
        "#SVM"
      ]
    },
    {
      "cell_type": "code",
      "metadata": {
        "colab": {
          "base_uri": "https://localhost:8080/"
        },
        "id": "zNB5vjgaMnEV",
        "outputId": "b74650f0-d2be-4a95-df90-ff80348390d7"
      },
      "source": [
        "# Modeling with SVM\n",
        "SVM = svm.SVC(C=1.0, kernel='linear', degree=3, gamma='auto')\n",
        "SVM.fit(X_train_vect, y_train)\n",
        "svm_predicted = SVM.predict(X_test_vect)\n",
        "accuracy_score(y_test, svm_predicted)"
      ],
      "execution_count": null,
      "outputs": [
        {
          "output_type": "execute_result",
          "data": {
            "text/plain": [
              "0.8666666666666667"
            ]
          },
          "metadata": {
            "tags": []
          },
          "execution_count": 25
        }
      ]
    },
    {
      "cell_type": "code",
      "metadata": {
        "colab": {
          "base_uri": "https://localhost:8080/"
        },
        "id": "4Qlc0UoFN6bg",
        "outputId": "9c0cc313-1ea6-4a23-c0d0-018d27e4fd76"
      },
      "source": [
        "print(classification_report(y_test, svm_predicted))"
      ],
      "execution_count": null,
      "outputs": [
        {
          "output_type": "stream",
          "text": [
            "              precision    recall  f1-score   support\n",
            "\n",
            "           0       1.00      0.88      0.93         8\n",
            "           1       0.69      1.00      0.82         9\n",
            "           2       1.00      0.77      0.87        13\n",
            "\n",
            "    accuracy                           0.87        30\n",
            "   macro avg       0.90      0.88      0.87        30\n",
            "weighted avg       0.91      0.87      0.87        30\n",
            "\n"
          ],
          "name": "stdout"
        }
      ]
    },
    {
      "cell_type": "code",
      "metadata": {
        "colab": {
          "base_uri": "https://localhost:8080/",
          "height": 381
        },
        "id": "LlXWDOqkN-BT",
        "outputId": "8b73e2d5-fd72-48a3-95f6-43017e3a1b25"
      },
      "source": [
        "svm_cm = confusion_matrix(y_test, svm_predicted)\n",
        "plot(svm_cm, classes=[\"0 (Bisnis)\",\"1 (Lifestyle)\",\"2 (Sport)\"], title='Confusion matrix SVM')"
      ],
      "execution_count": null,
      "outputs": [
        {
          "output_type": "stream",
          "text": [
            "Confusion matrix, without normalization\n",
            "[[ 7  1  0]\n",
            " [ 0  9  0]\n",
            " [ 0  3 10]]\n"
          ],
          "name": "stdout"
        },
        {
          "output_type": "display_data",
          "data": {
            "image/png": "[encoded data removed]",
            "text/plain": [
              "<Figure size 432x288 with 2 Axes>"
            ]
          },
          "metadata": {
            "tags": [],
            "needs_background": "light"
          }
        }
      ]
    },
    {
      "cell_type": "markdown",
      "metadata": {
        "id": "lU-KcUAzMGr4"
      },
      "source": [
        "# NAIVE BAYES"
      ]
    },
    {
      "cell_type": "code",
      "metadata": {
        "colab": {
          "base_uri": "https://localhost:8080/"
        },
        "id": "ugHEV5WdMRu-",
        "outputId": "2af6ee85-0e0d-455c-ea06-b61c2d76455c"
      },
      "source": [
        "from sklearn.naive_bayes import MultinomialNB\n",
        "clf = MultinomialNB()\n",
        "clf.fit(X_train_vect, y_train)\n",
        "predicted2 = clf.predict(X_test_vect)\n",
        "accuracy_score(y_test,predicted2)"
      ],
      "execution_count": null,
      "outputs": [
        {
          "output_type": "execute_result",
          "data": {
            "text/plain": [
              "1.0"
            ]
          },
          "metadata": {
            "tags": []
          },
          "execution_count": 28
        }
      ]
    },
    {
      "cell_type": "code",
      "metadata": {
        "colab": {
          "base_uri": "https://localhost:8080/"
        },
        "id": "_NO62yOjMcbe",
        "outputId": "23f87ce8-f5fd-4a3f-c5cc-bce312259139"
      },
      "source": [
        "print(classification_report(y_test, predicted2))"
      ],
      "execution_count": null,
      "outputs": [
        {
          "output_type": "stream",
          "text": [
            "              precision    recall  f1-score   support\n",
            "\n",
            "           0       1.00      1.00      1.00         8\n",
            "           1       1.00      1.00      1.00         9\n",
            "           2       1.00      1.00      1.00        13\n",
            "\n",
            "    accuracy                           1.00        30\n",
            "   macro avg       1.00      1.00      1.00        30\n",
            "weighted avg       1.00      1.00      1.00        30\n",
            "\n"
          ],
          "name": "stdout"
        }
      ]
    },
    {
      "cell_type": "code",
      "metadata": {
        "colab": {
          "base_uri": "https://localhost:8080/",
          "height": 381
        },
        "id": "z2OscjeONgEC",
        "outputId": "e350e2ad-883e-45e9-9175-9754cd9fec04"
      },
      "source": [
        "nb_cm = confusion_matrix(y_test, predicted2)\n",
        "plot(nb_cm, classes=[\"0 (Bisnis)\",\"1 (Lifestyle)\",\"2 (Sport)\"], title='Confusion matrix Naive Bayes')"
      ],
      "execution_count": null,
      "outputs": [
        {
          "output_type": "stream",
          "text": [
            "Confusion matrix, without normalization\n",
            "[[ 8  0  0]\n",
            " [ 0  9  0]\n",
            " [ 0  0 13]]\n"
          ],
          "name": "stdout"
        },
        {
          "output_type": "display_data",
          "data": {
            "image/png": "[encoded data removed]",
            "text/plain": [
              "<Figure size 432x288 with 2 Axes>"
            ]
          },
          "metadata": {
            "tags": [],
            "needs_background": "light"
          }
        }
      ]
    },
    {
      "cell_type": "markdown",
      "metadata": {
        "id": "_1xWMDdnLpQQ"
      },
      "source": [
        "# DECISION TREE"
      ]
    },
    {
      "cell_type": "code",
      "metadata": {
        "colab": {
          "base_uri": "https://localhost:8080/"
        },
        "id": "LuxftCWSMpRC",
        "outputId": "4ab741ac-b2bb-4e75-fbd3-b57114a86212"
      },
      "source": [
        "DT = DecisionTreeClassifier()\n",
        "DT.fit(X_train_vect, y_train)"
      ],
      "execution_count": null,
      "outputs": [
        {
          "output_type": "execute_result",
          "data": {
            "text/plain": [
              "DecisionTreeClassifier(ccp_alpha=0.0, class_weight=None, criterion='gini',\n",
              "                       max_depth=None, max_features=None, max_leaf_nodes=None,\n",
              "                       min_impurity_decrease=0.0, min_impurity_split=None,\n",
              "                       min_samples_leaf=1, min_samples_split=2,\n",
              "                       min_weight_fraction_leaf=0.0, presort='deprecated',\n",
              "                       random_state=None, splitter='best')"
            ]
          },
          "metadata": {
            "tags": []
          },
          "execution_count": 31
        }
      ]
    },
    {
      "cell_type": "code",
      "metadata": {
        "id": "KD3-RkK8NHoR"
      },
      "source": [
        "dt_predicted = DT.predict(X_test_vect)"
      ],
      "execution_count": null,
      "outputs": []
    },
    {
      "cell_type": "code",
      "metadata": {
        "colab": {
          "base_uri": "https://localhost:8080/"
        },
        "id": "jiRDegYqM52D",
        "outputId": "6c9fed8a-333b-4d7c-f493-0c07d7e66fef"
      },
      "source": [
        "accuracy_score(y_test, dt_predicted)"
      ],
      "execution_count": null,
      "outputs": [
        {
          "output_type": "execute_result",
          "data": {
            "text/plain": [
              "0.9333333333333333"
            ]
          },
          "metadata": {
            "tags": []
          },
          "execution_count": 33
        }
      ]
    },
    {
      "cell_type": "code",
      "metadata": {
        "colab": {
          "base_uri": "https://localhost:8080/"
        },
        "id": "j6Fg7RirNeLe",
        "outputId": "a24fb504-f58b-4064-c3fb-fde3a92d14a5"
      },
      "source": [
        "print(classification_report(y_test, dt_predicted))"
      ],
      "execution_count": null,
      "outputs": [
        {
          "output_type": "stream",
          "text": [
            "              precision    recall  f1-score   support\n",
            "\n",
            "           0       0.88      0.88      0.88         8\n",
            "           1       0.90      1.00      0.95         9\n",
            "           2       1.00      0.92      0.96        13\n",
            "\n",
            "    accuracy                           0.93        30\n",
            "   macro avg       0.92      0.93      0.93        30\n",
            "weighted avg       0.94      0.93      0.93        30\n",
            "\n"
          ],
          "name": "stdout"
        }
      ]
    },
    {
      "cell_type": "code",
      "metadata": {
        "colab": {
          "base_uri": "https://localhost:8080/",
          "height": 381
        },
        "id": "TWjDw-I8Mz8r",
        "outputId": "5cb5060a-eb6d-4e78-c622-fde3084c6014"
      },
      "source": [
        "dt_cm = confusion_matrix(y_test, dt_predicted)\n",
        "plot(dt_cm, classes=[\"0 (Bisnis)\",\"1 (Lifestyle)\",\"2 (Sport)\"], title='Confusion matrix Decision Tree')"
      ],
      "execution_count": null,
      "outputs": [
        {
          "output_type": "stream",
          "text": [
            "Confusion matrix, without normalization\n",
            "[[ 7  1  0]\n",
            " [ 0  9  0]\n",
            " [ 1  0 12]]\n"
          ],
          "name": "stdout"
        },
        {
          "output_type": "display_data",
          "data": {
            "image/png": "[encoded data removed]",
            "text/plain": [
              "<Figure size 432x288 with 2 Axes>"
            ]
          },
          "metadata": {
            "tags": [],
            "needs_background": "light"
          }
        }
      ]
    },
    {
      "cell_type": "markdown",
      "metadata": {
        "id": "pGFzHlNBOdO-"
      },
      "source": [
        "#Random Forest with TF-IDF Vectorizer and Grid Search"
      ]
    },
    {
      "cell_type": "code",
      "metadata": {
        "id": "Cfs7qtDKPHQp"
      },
      "source": [
        "x_train2, x_test2, y_train2, y_test2 = train_test_split(dataset['clean'], dataset['label'], test_size=0.25)"
      ],
      "execution_count": null,
      "outputs": []
    },
    {
      "cell_type": "code",
      "metadata": {
        "id": "dFJkOb2fOiPI"
      },
      "source": [
        "#Tf-idf\n",
        "tfidf = TfidfVectorizer()\n",
        "x_train_vect = tfidf.fit_transform(x_train2)\n",
        "x_test_vect = tfidf.transform(x_test2)\n",
        "y_train = y_train2.map({'bisnis':0, 'lifestyle':1, 'sport':2})\n",
        "y_test = y_test2.map({'bisnis':0, 'lifestyle':1, 'sport':2})"
      ],
      "execution_count": null,
      "outputs": []
    },
    {
      "cell_type": "code",
      "metadata": {
        "colab": {
          "base_uri": "https://localhost:8080/"
        },
        "id": "5OspQzqEOuxo",
        "outputId": "960111e7-1b34-4c3e-ce95-7301dab0d516"
      },
      "source": [
        "from sklearn.model_selection import GridSearchCV\n",
        "from sklearn.ensemble import RandomForestClassifier\n",
        "# Create the parameter grid based on the results of random search \n",
        "param_grid = {\n",
        "    'max_depth': [1,2,3,4,10,15],\n",
        "     'min_samples_leaf': [3, 5,10,20,30],\n",
        "     'min_samples_split': [4, 8, 10, 12],\n",
        "     'n_estimators': [3,5,10,15]\n",
        "}\n",
        "# Create a base model\n",
        "rf = RandomForestClassifier()\n",
        "# Instantiate the grid search model\n",
        "grid_search = GridSearchCV(estimator = rf, param_grid = param_grid, \n",
        "                          cv = 3, n_jobs = -1, verbose = 2)\n",
        "\n",
        "grid_search.fit(x_train_vect, y_train)\n",
        "grid_search.best_params_\n",
        "rf = grid_search.best_estimator_\n",
        "rf.fit(x_train_vect,y_train)\n",
        "rf_pred = rf.predict(x_test_vect)"
      ],
      "execution_count": null,
      "outputs": [
        {
          "output_type": "stream",
          "text": [
            "Fitting 3 folds for each of 480 candidates, totalling 1440 fits\n"
          ],
          "name": "stdout"
        },
        {
          "output_type": "stream",
          "text": [
            "[Parallel(n_jobs=-1)]: Using backend LokyBackend with 2 concurrent workers.\n",
            "[Parallel(n_jobs=-1)]: Done 130 tasks      | elapsed:    3.2s\n",
            "[Parallel(n_jobs=-1)]: Done 1098 tasks      | elapsed:   16.0s\n",
            "[Parallel(n_jobs=-1)]: Done 1440 out of 1440 | elapsed:   20.4s finished\n"
          ],
          "name": "stderr"
        }
      ]
    },
    {
      "cell_type": "code",
      "metadata": {
        "colab": {
          "base_uri": "https://localhost:8080/"
        },
        "id": "mOrZYlsfQDsF",
        "outputId": "ae1c185d-ac9f-4dd0-a982-037603d285e2"
      },
      "source": [
        "print(classification_report(y_test,rf_pred))\n",
        "rf_matrix = confusion_matrix(y_test,rf_pred)"
      ],
      "execution_count": null,
      "outputs": [
        {
          "output_type": "stream",
          "text": [
            "              precision    recall  f1-score   support\n",
            "\n",
            "           0       1.00      0.79      0.88        14\n",
            "           1       0.75      1.00      0.86         9\n",
            "           2       1.00      1.00      1.00         7\n",
            "\n",
            "    accuracy                           0.90        30\n",
            "   macro avg       0.92      0.93      0.91        30\n",
            "weighted avg       0.93      0.90      0.90        30\n",
            "\n"
          ],
          "name": "stdout"
        }
      ]
    },
    {
      "cell_type": "code",
      "metadata": {
        "colab": {
          "base_uri": "https://localhost:8080/",
          "height": 381
        },
        "id": "5UEY23JsP6yf",
        "outputId": "8055b10a-72ea-4845-8498-a472d004e187"
      },
      "source": [
        "plot(rf_matrix, classes=[\"0 (Bisnis)\",\"1 (Lifestyle)\",\"2 (Sport)\"], title='Confusion matrix Random Forest')"
      ],
      "execution_count": null,
      "outputs": [
        {
          "output_type": "stream",
          "text": [
            "Confusion matrix, without normalization\n",
            "[[11  3  0]\n",
            " [ 0  9  0]\n",
            " [ 0  0  7]]\n"
          ],
          "name": "stdout"
        },
        {
          "output_type": "display_data",
          "data": {
            "image/png": "[encoded data removed]",
            "text/plain": [
              "<Figure size 432x288 with 2 Axes>"
            ]
          },
          "metadata": {
            "tags": [],
            "needs_background": "light"
          }
        }
      ]
    },
    {
      "cell_type": "code",
      "metadata": {
        "id": "rHcrTv1jWeHd"
      },
      "source": [
        "headline = pd.Series('KKP Izinkan Tangkap Ikan Pakai Jaring Tarik Berkantong, Apa Bedanya dengan Cantrang?', index = [0])"
      ],
      "execution_count": null,
      "outputs": []
    },
    {
      "cell_type": "code",
      "metadata": {
        "id": "KxmuM2i2Wue9"
      },
      "source": [
        "cv_headline = cv.transform(headline)"
      ],
      "execution_count": null,
      "outputs": []
    },
    {
      "cell_type": "code",
      "metadata": {
        "colab": {
          "base_uri": "https://localhost:8080/"
        },
        "id": "c0bGqNz0W_80",
        "outputId": "b698aab7-26f4-4397-b5ec-394f06b8a68a"
      },
      "source": [
        "clf.predict(cv_headline)"
      ],
      "execution_count": null,
      "outputs": [
        {
          "output_type": "execute_result",
          "data": {
            "text/plain": [
              "array([1])"
            ]
          },
          "metadata": {
            "tags": []
          },
          "execution_count": 61
        }
      ]
    }
  ]
}